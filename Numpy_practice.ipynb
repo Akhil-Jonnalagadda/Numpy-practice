{
  "nbformat": 4,
  "nbformat_minor": 0,
  "metadata": {
    "colab": {
      "provenance": []
    },
    "kernelspec": {
      "name": "python3",
      "display_name": "Python 3"
    },
    "language_info": {
      "name": "python"
    }
  },
  "cells": [
    {
      "cell_type": "code",
      "execution_count": 1,
      "metadata": {
        "id": "_4eE-4ousxzM"
      },
      "outputs": [],
      "source": [
        "#re-practicing the numpy\n",
        "# we will simulate data for 5 students and their scores in 4 subjects"
      ]
    },
    {
      "cell_type": "code",
      "source": [
        "import numpy as np\n",
        "marks = np.array([\n",
        "    [85, 92, 78, 90],  # Student 1\n",
        "    [70, 88, 82, 85],  # Student 2\n",
        "    [60, 75, 65, 70],  # Student 3\n",
        "    [95, 98, 99, 97],  # Student 4\n",
        "    [50, 45, 60, 55]   # Student 5\n",
        "])"
      ],
      "metadata": {
        "id": "dBBTEAA7s8wD"
      },
      "execution_count": 2,
      "outputs": []
    },
    {
      "cell_type": "code",
      "source": [
        "print(\"shape:\",marks.shape)\n",
        "print(\"total students:\",marks.shape[0])\n",
        "print(\"subjects:\",marks.shape[1])"
      ],
      "metadata": {
        "colab": {
          "base_uri": "https://localhost:8080/"
        },
        "id": "3YpCUxuytNBM",
        "outputId": "41e118d8-02cd-40a5-f342-5d187a2e6443"
      },
      "execution_count": 5,
      "outputs": [
        {
          "output_type": "stream",
          "name": "stdout",
          "text": [
            "shape: (5, 4)\n",
            "total students: 5\n",
            "subjects: 4\n"
          ]
        }
      ]
    },
    {
      "cell_type": "code",
      "source": [
        "print(\"average per subject:\",np.mean(marks,axis=0))\n",
        "print(\"maximum per subject:\",np.max(marks,axis=0))\n",
        "print(\"minimum per subject:\",np.min(marks,axis=0))\n",
        "print(\"standard deviation per subject:\",np.std(marks,axis=0))"
      ],
      "metadata": {
        "colab": {
          "base_uri": "https://localhost:8080/"
        },
        "id": "x57PiQzTtrmD",
        "outputId": "960cbd3a-8b88-44e8-d3d8-f1af0a885771"
      },
      "execution_count": 6,
      "outputs": [
        {
          "output_type": "stream",
          "name": "stdout",
          "text": [
            "average per subject: [72.  79.6 76.8 79.4]\n",
            "maximum per subject: [95 98 99 97]\n",
            "minimum per subject: [50 45 60 55]\n",
            "standard deviation per subject: [16.30950643 18.87432118 13.73171512 15.08111402]\n"
          ]
        }
      ]
    },
    {
      "cell_type": "code",
      "source": [
        "total_marks = np.sum(marks, axis=1)\n",
        "print(\"total marks of each student:\", total_marks)\n",
        "\n",
        "average_marks = np.mean(marks, axis=1)\n",
        "print(\"average marks of each student:\",average_marks)"
      ],
      "metadata": {
        "colab": {
          "base_uri": "https://localhost:8080/"
        },
        "id": "-eZhy6j8ujXW",
        "outputId": "46d09ad5-793b-49d9-999e-efdde41d12f1"
      },
      "execution_count": 7,
      "outputs": [
        {
          "output_type": "stream",
          "name": "stdout",
          "text": [
            "total marks of each student: [345 325 270 389 210]\n",
            "average marks of each student: [86.25 81.25 67.5  97.25 52.5 ]\n"
          ]
        }
      ]
    },
    {
      "cell_type": "code",
      "source": [
        "top_student = np.argmax(total_marks)\n",
        "print(\"top student is student\",top_student + 1,\"with\",total_marks[top_student], \"marks out of 400\")"
      ],
      "metadata": {
        "colab": {
          "base_uri": "https://localhost:8080/"
        },
        "id": "en7k3GnLvwk2",
        "outputId": "4a372d88-bdfb-449d-cac8-de5a213b1c35"
      },
      "execution_count": 10,
      "outputs": [
        {
          "output_type": "stream",
          "name": "stdout",
          "text": [
            "top student is student 4 with 389 marks out of 400\n"
          ]
        }
      ]
    },
    {
      "cell_type": "code",
      "source": [
        "high_achievers = np.where(average_marks > 80)\n",
        "print(\"student with average > 80:\", high_achievers[0] + 1)"
      ],
      "metadata": {
        "colab": {
          "base_uri": "https://localhost:8080/"
        },
        "id": "6-kGd_iNwjEd",
        "outputId": "31f13eb4-9f52-47f9-a3a3-cedbde3ee49f"
      },
      "execution_count": 14,
      "outputs": [
        {
          "output_type": "stream",
          "name": "stdout",
          "text": [
            "student with average > 80: [1 2 4]\n"
          ]
        }
      ]
    },
    {
      "cell_type": "code",
      "source": [
        "normalized = (marks - np.min(marks))/(np.max(marks) - np.min(marks))\n",
        "print(\"nrmalized marks:\\n\", normalized)\n"
      ],
      "metadata": {
        "colab": {
          "base_uri": "https://localhost:8080/"
        },
        "id": "EoGjdmTbxCEL",
        "outputId": "af24dbd3-b51a-45e9-c79f-c48f23915dbc"
      },
      "execution_count": 15,
      "outputs": [
        {
          "output_type": "stream",
          "name": "stdout",
          "text": [
            "nrmalized marks:\n",
            " [[0.74074074 0.87037037 0.61111111 0.83333333]\n",
            " [0.46296296 0.7962963  0.68518519 0.74074074]\n",
            " [0.27777778 0.55555556 0.37037037 0.46296296]\n",
            " [0.92592593 0.98148148 1.         0.96296296]\n",
            " [0.09259259 0.         0.27777778 0.18518519]]\n"
          ]
        }
      ]
    },
    {
      "cell_type": "code",
      "source": [
        "sorted_indices = np.argsort(total_marks)[::-1]\n",
        "print(\"ranked student indices:\", sorted_indices+1)"
      ],
      "metadata": {
        "colab": {
          "base_uri": "https://localhost:8080/"
        },
        "id": "nvXLmRAzxj8u",
        "outputId": "2c11e24a-027c-4fd7-87b0-fcf7dfbb4e07"
      },
      "execution_count": 16,
      "outputs": [
        {
          "output_type": "stream",
          "name": "stdout",
          "text": [
            "ranked student indices: [4 1 2 3 5]\n"
          ]
        }
      ]
    },
    {
      "cell_type": "code",
      "source": [
        "for i in sorted_indices:\n",
        "    print(f\"student{i+1}- total: {total_marks[i]}, avg: {average_marks[i]: .2f}\")"
      ],
      "metadata": {
        "colab": {
          "base_uri": "https://localhost:8080/"
        },
        "id": "vf8BjIczx-a6",
        "outputId": "4bf7a069-961c-41c6-ea20-a5fcc9295afc"
      },
      "execution_count": 17,
      "outputs": [
        {
          "output_type": "stream",
          "name": "stdout",
          "text": [
            "student4- total: 389, avg:  97.25\n",
            "student1- total: 345, avg:  86.25\n",
            "student2- total: 325, avg:  81.25\n",
            "student3- total: 270, avg:  67.50\n",
            "student5- total: 210, avg:  52.50\n"
          ]
        }
      ]
    }
  ]
}